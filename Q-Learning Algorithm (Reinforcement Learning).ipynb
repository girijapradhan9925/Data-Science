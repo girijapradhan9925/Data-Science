{
 "cells": [
  {
   "cell_type": "code",
   "execution_count": 18,
   "metadata": {},
   "outputs": [],
   "source": [
    "import numpy as np\n",
    "\n",
    "R=np.matrix([[-1, -1, -1, -1, 0, -1],\n",
    "             [-1, -1, -1, 0, -1, 100],\n",
    "             [-1, -1, -1, 0, -1, -1],\n",
    "             [-1, 0, 0, -1, 0, -1],\n",
    "             [-1, 0, 0, -1, -1, 100],\n",
    "             [-1, 0, -1, -1, 0, 100]])"
   ]
  },
  {
   "cell_type": "code",
   "execution_count": 21,
   "metadata": {},
   "outputs": [
    {
     "name": "stdout",
     "output_type": "stream",
     "text": [
      "Trained Q matrix:\n",
      "[[  0.    0.    0.    0.   80.    0. ]\n",
      " [  0.    0.    0.   64.    0.  100. ]\n",
      " [  0.    0.    0.   64.    0.    0. ]\n",
      " [  0.   80.   51.2   0.   80.    0. ]\n",
      " [  0.   80.   51.2   0.    0.  100. ]\n",
      " [  0.   80.    0.    0.   80.  100. ]]\n",
      "Selected Path:\n",
      "[2, 3, 4, 5]\n"
     ]
    }
   ],
   "source": [
    "Q = np.matrix(np.zeros([6,6]))\n",
    "\n",
    "gamma =0.8\n",
    "\n",
    "initial_state = 1\n",
    "\n",
    "def available_actions(state):\n",
    "    current_state_row = R[state,]\n",
    "    av_act = np.where(current_state_row >= 0)[1]\n",
    "    return av_act\n",
    "\n",
    "available_act = available_actions(initial_state)\n",
    "\n",
    "def sample_next_action(available_actions_range):\n",
    "    next_action=int(np.random.choice(available_act, 1))\n",
    "    return next_action\n",
    "\n",
    "action=sample_next_action(available_act)\n",
    "\n",
    "def update(current_state, action, gamma):\n",
    "    max_index = np.where(Q[action,] == np.max(Q[action,]))[1]\n",
    "    \n",
    "    if max_index.shape[0]>1:\n",
    "        max_index=int(np.random.choice(max_index, size=1))\n",
    "    else:\n",
    "        max_index = int(max_index)\n",
    "    \n",
    "    max_value=Q[action, max_index]\n",
    "    \n",
    "    Q[current_state, action] = R[current_state, action] + gamma * max_value\n",
    "    \n",
    "update(initial_state, action, gamma)\n",
    "\n",
    "for i in range(10000):\n",
    "    current_state = np.random.randint(0, int(Q.shape[0]))\n",
    "    available_act = available_actions(current_state)\n",
    "    action=sample_next_action(available_act)\n",
    "    update(current_state, action, gamma)\n",
    "    \n",
    "print(\"Trained Q matrix:\")\n",
    "print(Q/np.max(Q) * 100)\n",
    "\n",
    "current_state = 2\n",
    "steps=[current_state]\n",
    "\n",
    "while current_state != 5:\n",
    "    next_step_index=np.where(Q[current_state,] == np.max(Q[current_state,]))[1]\n",
    "    \n",
    "    if next_step_index.shape[0]> 1:\n",
    "        next_step_index=int(np.random.choice(next_step_index, size=1))\n",
    "    else:\n",
    "        next_step_index = int(next_step_index)\n",
    "    \n",
    "    steps.append(next_step_index)\n",
    "    current_state = next_step_index\n",
    "\n",
    "print(\"Selected Path:\")\n",
    "print(steps)\n",
    "        \n",
    "        "
   ]
  },
  {
   "cell_type": "code",
   "execution_count": null,
   "metadata": {},
   "outputs": [],
   "source": []
  },
  {
   "cell_type": "code",
   "execution_count": null,
   "metadata": {},
   "outputs": [],
   "source": []
  }
 ],
 "metadata": {
  "kernelspec": {
   "display_name": "Python 3",
   "language": "python",
   "name": "python3"
  },
  "language_info": {
   "codemirror_mode": {
    "name": "ipython",
    "version": 3
   },
   "file_extension": ".py",
   "mimetype": "text/x-python",
   "name": "python",
   "nbconvert_exporter": "python",
   "pygments_lexer": "ipython3",
   "version": "3.8.3"
  }
 },
 "nbformat": 4,
 "nbformat_minor": 2
}
